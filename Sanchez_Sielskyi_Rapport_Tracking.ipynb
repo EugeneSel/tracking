{
 "metadata": {
  "language_info": {
   "codemirror_mode": {
    "name": "ipython",
    "version": 3
   },
   "file_extension": ".py",
   "mimetype": "text/x-python",
   "name": "python",
   "nbconvert_exporter": "python",
   "pygments_lexer": "ipython3",
   "version": "3.8.5-final"
  },
  "orig_nbformat": 2,
  "kernelspec": {
   "name": "python38264bit729ca97937d141b791e090f75bd8ee6a",
   "display_name": "Python 3.8.2 64-bit",
   "language": "python"
  }
 },
 "nbformat": 4,
 "nbformat_minor": 2,
 "cells": [
  {
   "source": [
    "# ENSTA-ParisTech 3e année - Cours ROB313\n",
    "# TP3: Analyse vidéo et Tracking\n",
    "\n",
    "**Auteurs: Kevin Alessandro Sanchez Diaz et Yevhenii Sielskyi**"
   ],
   "cell_type": "markdown",
   "metadata": {}
  },
  {
   "source": [
    "## Mean Shift\n",
    "\n",
    "**Q1 Expérimenter** le suivi réalisé par le code de base `Tracking_MeanShift.py` fourni qui utilise l'algorithme de *Mean Shift*, avec la densité marginale $f_H$ sur la composante $H$ de teinte. Rappeler le principe de l'algorithme *Mean Shift*, et illustrer par vos expériences ses avantages et ses limitations."
   ],
   "cell_type": "markdown",
   "metadata": {}
  },
  {
   "cell_type": "code",
   "execution_count": null,
   "metadata": {},
   "outputs": [],
   "source": [
    "!python Tracking_MeanShift.py"
   ]
  },
  {
   "source": [
    "> TODO"
   ],
   "cell_type": "markdown",
   "metadata": {}
  },
  {
   "source": [
    "**Q2 Analyser** plus finement le résultat en affichant la séquence des poids à partir de la rétroprojection $R_H$ de l'histogramme $f_H$ de teinte, définie par $R_H(x, y) = f_H(H(x, y))$. Proposer et programmer des améliorations, en changeant la densité calculée et/ou en mettant en oeuvre une stratégie de mise à jour de l'histogramme modèle."
   ],
   "cell_type": "markdown",
   "metadata": {}
  },
  {
   "source": [
    "> TODO"
   ],
   "cell_type": "markdown",
   "metadata": {}
  },
  {
   "source": [
    "## Transformée de Hough\n",
    "\n",
    "**Q3 Calculer** à chaque trame, l'orientation locale, i.e. l'argument du gradient des pixels de l'image, ainsi que le module du gradient. Définir un seuil sur le module du gradient pour masquer les pixels dont l'orientation n'est pas significative. Afficher ainsi la séquence des orientations où les pixels masqués apparaissent en rouge. L'objectif de cette question est de définir l'index de la *Transformée de Hough* (l'orientation), ainsi que l'ensemble des pixels votants, i.e. ceux dont l'orientation est significative."
   ],
   "cell_type": "markdown",
   "metadata": {}
  },
  {
   "source": [
    "> TODO"
   ],
   "cell_type": "markdown",
   "metadata": {}
  },
  {
   "source": [
    "**Q4 Construire** un modèle de l'objet défini initialement sous la forme d'un modèle implicite indexé sur l'orientation (*R-Table*). Puis calculer la transformée de Hough associée sur toutes les images de la séquence. Calculer le suivi correspondant à la valeur maximale de la transformée de Hough à chaque image. Commenter et critiquer le résultat obtenu."
   ],
   "cell_type": "markdown",
   "metadata": {}
  },
  {
   "source": [
    "> TODO"
   ],
   "cell_type": "markdown",
   "metadata": {}
  },
  {
   "source": [
    "**Q5 Remplacer** le calcul du maximum par l'application du Mean Shift sur la transformée de Hough. Interpréter le résultat et le comparer avec le précédent. Proposer une stratégie de mise à jour du modèle qui permette de prendre en compte les déformations de l'objet."
   ],
   "cell_type": "markdown",
   "metadata": {}
  },
  {
   "source": [
    "> TODO"
   ],
   "cell_type": "markdown",
   "metadata": {}
  }
 ]
}